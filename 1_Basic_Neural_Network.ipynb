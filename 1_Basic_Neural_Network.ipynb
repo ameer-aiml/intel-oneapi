{
  "nbformat": 4,
  "nbformat_minor": 0,
  "metadata": {
    "kernelspec": {
      "display_name": "Python 3",
      "language": "python",
      "name": "python3"
    },
    "language_info": {
      "codemirror_mode": {
        "name": "ipython",
        "version": 3
      },
      "file_extension": ".py",
      "mimetype": "text/x-python",
      "name": "python",
      "nbconvert_exporter": "python",
      "pygments_lexer": "ipython3",
      "version": "3.7.3"
    },
    "toc": {
      "base_numbering": 1,
      "nav_menu": {},
      "number_sections": true,
      "sideBar": true,
      "skip_h1_title": false,
      "title_cell": "Table of Contents",
      "title_sidebar": "Contents",
      "toc_cell": false,
      "toc_position": {},
      "toc_section_display": true,
      "toc_window_display": false
    },
    "colab": {
      "name": "1.Basic Neural Network.ipynb",
      "provenance": []
    }
  },
  "cells": [
    {
      "cell_type": "code",
      "metadata": {
        "id": "AzWU6GDA8hVw",
        "outputId": "93f65c0d-9159-483d-c3b3-ceb02ae4ab83"
      },
      "source": [
        "import numpy as np\n",
        "\n",
        "# input dataset\n",
        "training_inputs = np.array([[3,1.5],[2,1],[4,1.5],[3,1],[3.5,0.5],[2,0.5],[5.5,1],[1,1]])\n",
        "\n",
        "# output dataset\n",
        "training_outputs = np.array([[1,0,1,0,1,0,1,0]])\n",
        "\n",
        "# sigmoid function to normalize inputs\n",
        "def sigmoid(x):\n",
        "    return 1 / (1 + np.exp(-x))\n",
        "\n",
        "# seed random numbers to make calculation\n",
        "np.random.seed(1)\n",
        "\n",
        "# initialize weights randomly with mean 0 to create weight matrix, synaptic weights\n",
        "synaptic_weights = [2 * np.random.random((2,1)) -1]\n",
        "\n",
        "print('Random starting synaptic weights: ')\n",
        "print(synaptic_weights)\n",
        "\n",
        "bias=0.01\n",
        "\n",
        "# Define input layer\n",
        "input_layer = training_inputs\n",
        "outputs = sigmoid(np.dot(input_layer,synaptic_weights)+bias)\n",
        "\n",
        "print(\"Output After Training:\")\n",
        "print(outputs)"
      ],
      "execution_count": null,
      "outputs": [
        {
          "output_type": "stream",
          "text": [
            "Random starting synaptic weights: \n",
            "[array([[-0.16595599],\n",
            "       [ 0.44064899]])]\n",
            "Output After Training:\n",
            "[[[0.54316863]]\n",
            "\n",
            " [[0.52964943]]\n",
            "\n",
            " [[0.50178737]]\n",
            "\n",
            " [[0.48819745]]\n",
            "\n",
            " [[0.41325597]]\n",
            "\n",
            " [[0.47462495]]\n",
            "\n",
            " [[0.38648564]]\n",
            "\n",
            " [[0.5706964 ]]]\n"
          ],
          "name": "stdout"
        }
      ]
    },
    {
      "cell_type": "code",
      "metadata": {
        "id": "hBv8oll38hVy"
      },
      "source": [
        ""
      ],
      "execution_count": null,
      "outputs": []
    }
  ]
}