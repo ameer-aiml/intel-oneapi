{
  "nbformat": 4,
  "nbformat_minor": 0,
  "metadata": {
    "colab": {
      "name": " MNIST - Streamlit Canvas.ipynb",
      "provenance": [],
      "collapsed_sections": [],
      "authorship_tag": "ABX9TyPsh2wq6+ameuDSJ2iZpaE4",
      "include_colab_link": true
    },
    "kernelspec": {
      "name": "python3",
      "display_name": "Python 3"
    }
  },
  "cells": [
    {
      "cell_type": "markdown",
      "metadata": {
        "id": "view-in-github",
        "colab_type": "text"
      },
      "source": [
        "<a href=\"https://colab.research.google.com/github/ameer-fice/intel-oneapi/blob/main/MNIST_Streamlit_Canvas.ipynb\" target=\"_parent\"><img src=\"https://colab.research.google.com/assets/colab-badge.svg\" alt=\"Open In Colab\"/></a>"
      ]
    },
    {
      "cell_type": "code",
      "metadata": {
        "colab": {
          "base_uri": "https://localhost:8080/"
        },
        "id": "eYW3JuceBnuH",
        "outputId": "4b6677ec-12db-422f-fa75-8f0f1deabef2"
      },
      "source": [
        "from tensorflow import keras\n",
        "mnist = keras.datasets.mnist\n",
        "(x_train,y_train),(x_test,y_test) = mnist.load_data()"
      ],
      "execution_count": 1,
      "outputs": [
        {
          "output_type": "stream",
          "text": [
            "Downloading data from https://storage.googleapis.com/tensorflow/tf-keras-datasets/mnist.npz\n",
            "11493376/11490434 [==============================] - 0s 0us/step\n"
          ],
          "name": "stdout"
        }
      ]
    },
    {
      "cell_type": "code",
      "metadata": {
        "colab": {
          "base_uri": "https://localhost:8080/",
          "height": 265
        },
        "id": "aIet8up7CKzj",
        "outputId": "37010bb9-88cc-43e8-d9c6-a58eaca50976"
      },
      "source": [
        "import matplotlib.pyplot as plt\n",
        "plt.imshow(x_train[1214],cmap = 'gray')\n",
        "plt.show()"
      ],
      "execution_count": 2,
      "outputs": [
        {
          "output_type": "display_data",
          "data": {
            "image/png": "[encoded data removed]",
            "text/plain": [
              "<Figure size 432x288 with 1 Axes>"
            ]
          },
          "metadata": {
            "tags": [],
            "needs_background": "light"
          }
        }
      ]
    },
    {
      "cell_type": "code",
      "metadata": {
        "id": "wqKAq6hPCTTJ"
      },
      "source": [
        "x_train = x_train/255\n",
        "x_test = x_test/255"
      ],
      "execution_count": 3,
      "outputs": []
    },
    {
      "cell_type": "code",
      "metadata": {
        "id": "d9G2xuKhDM3z"
      },
      "source": [
        "# from keras.layers import Dense\n",
        "# from keras.layers import Flatten\n",
        "model = keras.Sequential()\n",
        "model.add(keras.layers.Flatten()) # Input Layer\n",
        "model.add(keras.layers.Dense(512,input_shape=x_train.shape[1:],activation = 'relu'))\n",
        "model.add(keras.layers.Dense(10,activation ='softmax'))"
      ],
      "execution_count": 4,
      "outputs": []
    },
    {
      "cell_type": "code",
      "metadata": {
        "id": "36j04n5Pn72q"
      },
      "source": [
        "model.compile(optimizer='adam',loss='sparse_categorical_crossentropy',metrics=['accuracy'])"
      ],
      "execution_count": 5,
      "outputs": []
    },
    {
      "cell_type": "code",
      "metadata": {
        "id": "vwLUmUE5n-XQ",
        "colab": {
          "base_uri": "https://localhost:8080/"
        },
        "outputId": "c9a9d7ba-6d3d-411a-c1db-f9d204ae69c2"
      },
      "source": [
        "history = model.fit(x_train,y_train,epochs = 1)\n",
        "# Batch-size = 32"
      ],
      "execution_count": 6,
      "outputs": [
        {
          "output_type": "stream",
          "text": [
            "1875/1875 [==============================] - 8s 4ms/step - loss: 0.1998 - accuracy: 0.9410\n"
          ],
          "name": "stdout"
        }
      ]
    },
    {
      "cell_type": "code",
      "metadata": {
        "id": "R7-VVX3AtSIA",
        "colab": {
          "base_uri": "https://localhost:8080/"
        },
        "outputId": "a573381d-0dec-442e-ac06-099592693c04"
      },
      "source": [
        "y_pred = model.predict_classes(x_test)\n",
        "y_pred"
      ],
      "execution_count": 7,
      "outputs": [
        {
          "output_type": "stream",
          "text": [
            "/usr/local/lib/python3.7/dist-packages/tensorflow/python/keras/engine/sequential.py:455: UserWarning: `model.predict_classes()` is deprecated and will be removed after 2021-01-01. Please use instead:* `np.argmax(model.predict(x), axis=-1)`,   if your model does multi-class classification   (e.g. if it uses a `softmax` last-layer activation).* `(model.predict(x) > 0.5).astype(\"int32\")`,   if your model does binary classification   (e.g. if it uses a `sigmoid` last-layer activation).\n",
            "  warnings.warn('`model.predict_classes()` is deprecated and '\n"
          ],
          "name": "stderr"
        },
        {
          "output_type": "execute_result",
          "data": {
            "text/plain": [
              "array([7, 2, 1, ..., 4, 5, 6])"
            ]
          },
          "metadata": {
            "tags": []
          },
          "execution_count": 7
        }
      ]
    },
    {
      "cell_type": "code",
      "metadata": {
        "id": "nDbR-fHktcSi",
        "colab": {
          "base_uri": "https://localhost:8080/"
        },
        "outputId": "5f0823ff-031a-4b85-98ab-42012113fab4"
      },
      "source": [
        "import numpy as np\n",
        "np.argmax(model.predict(x_test), axis=1)"
      ],
      "execution_count": 8,
      "outputs": [
        {
          "output_type": "execute_result",
          "data": {
            "text/plain": [
              "array([7, 2, 1, ..., 4, 5, 6])"
            ]
          },
          "metadata": {
            "tags": []
          },
          "execution_count": 8
        }
      ]
    },
    {
      "cell_type": "code",
      "metadata": {
        "id": "ZGQdj8P6sXjv",
        "colab": {
          "base_uri": "https://localhost:8080/"
        },
        "outputId": "71845205-d06c-41dc-b6c4-b2847da1d7df"
      },
      "source": [
        "y_test # Real output"
      ],
      "execution_count": 9,
      "outputs": [
        {
          "output_type": "execute_result",
          "data": {
            "text/plain": [
              "array([7, 2, 1, ..., 4, 5, 6], dtype=uint8)"
            ]
          },
          "metadata": {
            "tags": []
          },
          "execution_count": 9
        }
      ]
    },
    {
      "cell_type": "code",
      "metadata": {
        "id": "B59tPNYhs7bE",
        "colab": {
          "base_uri": "https://localhost:8080/"
        },
        "outputId": "b108ba2b-3232-436c-a4c9-02c0c8c05ee9"
      },
      "source": [
        "# Evaluation\n",
        "from sklearn.metrics import confusion_matrix,accuracy_score\n",
        "confusion_matrix(y_pred,y_test)"
      ],
      "execution_count": 10,
      "outputs": [
        {
          "output_type": "execute_result",
          "data": {
            "text/plain": [
              "array([[ 965,    0,    8,    0,    1,    3,    4,    0,    3,    3],\n",
              "       [   0, 1125,    5,    0,    0,    1,    3,    6,    0,    7],\n",
              "       [   0,    1,  969,    2,    4,    0,    0,    9,    1,    0],\n",
              "       [   3,    2,   18,  991,    1,   10,    1,    6,    9,    9],\n",
              "       [   0,    0,    2,    0,  957,    1,    3,    4,    3,   14],\n",
              "       [   3,    0,    2,    6,    0,  866,    7,    0,    7,    8],\n",
              "       [   4,    2,    4,    1,    6,    6,  937,    0,    4,    1],\n",
              "       [   1,    0,    7,    3,    0,    0,    0,  983,    2,    5],\n",
              "       [   2,    5,   17,    5,    3,    4,    3,    3,  942,    0],\n",
              "       [   2,    0,    0,    2,   10,    1,    0,   17,    3,  962]])"
            ]
          },
          "metadata": {
            "tags": []
          },
          "execution_count": 10
        }
      ]
    },
    {
      "cell_type": "code",
      "metadata": {
        "id": "NkF7MDaft_iV",
        "colab": {
          "base_uri": "https://localhost:8080/"
        },
        "outputId": "0793a56e-fccd-4fdb-f0b2-003ee84c3dc4"
      },
      "source": [
        "accuracy_score(y_pred,y_test)"
      ],
      "execution_count": 11,
      "outputs": [
        {
          "output_type": "execute_result",
          "data": {
            "text/plain": [
              "0.9697"
            ]
          },
          "metadata": {
            "tags": []
          },
          "execution_count": 11
        }
      ]
    },
    {
      "cell_type": "code",
      "metadata": {
        "id": "GmGfW6bcDLqA"
      },
      "source": [
        "# We will store the NN Model in a file.\n",
        "# .h5 file format \n",
        "\n",
        "model.save('model_digit.hdf5')"
      ],
      "execution_count": 12,
      "outputs": []
    },
    {
      "cell_type": "code",
      "metadata": {
        "id": "_Xp3BfnJDfzh",
        "colab": {
          "base_uri": "https://localhost:8080/"
        },
        "outputId": "8d60f974-f02d-4f3b-9d0a-8be8e10134c5"
      },
      "source": [
        "!pip install streamlit==0.83.0 --quiet\n",
        "!pip install pyngrok==4.1.1 --quiet\n",
        "!pip install streamlit-drawable-canvas --quiet\n",
        "from pyngrok import ngrok"
      ],
      "execution_count": 13,
      "outputs": [
        {
          "output_type": "stream",
          "text": [
            "\u001b[K     |████████████████████████████████| 7.7 MB 5.2 MB/s \n",
            "\u001b[K     |████████████████████████████████| 75 kB 2.8 MB/s \n",
            "\u001b[K     |████████████████████████████████| 4.2 MB 26.0 MB/s \n",
            "\u001b[K     |████████████████████████████████| 177 kB 68.1 MB/s \n",
            "\u001b[K     |████████████████████████████████| 111 kB 72.6 MB/s \n",
            "\u001b[K     |████████████████████████████████| 122 kB 62.3 MB/s \n",
            "\u001b[K     |████████████████████████████████| 786 kB 46.3 MB/s \n",
            "\u001b[K     |████████████████████████████████| 368 kB 70.5 MB/s \n",
            "\u001b[K     |████████████████████████████████| 63 kB 1.6 MB/s \n",
            "\u001b[?25h  Building wheel for blinker (setup.py) ... \u001b[?25l\u001b[?25hdone\n",
            "\u001b[31mERROR: pip's dependency resolver does not currently take into account all the packages that are installed. This behaviour is the source of the following dependency conflicts.\n",
            "jupyter-console 5.2.0 requires prompt-toolkit<2.0.0,>=1.0.0, but you have prompt-toolkit 3.0.19 which is incompatible.\n",
            "google-colab 1.0.0 requires ipykernel~=4.10, but you have ipykernel 6.0.3 which is incompatible.\n",
            "google-colab 1.0.0 requires ipython~=5.5.0, but you have ipython 7.25.0 which is incompatible.\u001b[0m\n",
            "  Building wheel for pyngrok (setup.py) ... \u001b[?25l\u001b[?25hdone\n",
            "\u001b[K     |████████████████████████████████| 1.3 MB 4.3 MB/s \n",
            "\u001b[?25h"
          ],
          "name": "stdout"
        }
      ]
    },
    {
      "cell_type": "code",
      "metadata": {
        "id": "kWnMsd7IDy67",
        "colab": {
          "base_uri": "https://localhost:8080/"
        },
        "outputId": "351b3c84-1592-4667-8091-389f33deb97a"
      },
      "source": [
        "%%writefile app.py\n",
        "import streamlit as st\n",
        "import numpy as np\n",
        "from streamlit_drawable_canvas import st_canvas\n",
        "from tensorflow import keras\n",
        "import cv2\n",
        "model = keras.models.load_model('model_digit.hdf5',compile=False)\n",
        "\n",
        "SIZE = 225\n",
        "\n",
        "col1, col2 = st.beta_columns(2)\n",
        "\n",
        "with col1:\n",
        "  st.write('Original Image')\n",
        "  canvas_result = st_canvas(stroke_width=20,stroke_color='#ffffff',\n",
        "      background_color='#000000',height=SIZE,width=SIZE)\n",
        "\n",
        "with col2:\n",
        "  if canvas_result.image_data is not None:\n",
        "      img = cv2.resize(canvas_result.image_data.astype('uint8'), (28, 28))\n",
        "      rescaled = cv2.resize(img, (SIZE, SIZE))\n",
        "      st.write('Rescaled Image')\n",
        "      st.image(rescaled)\n",
        "\n",
        "if st.button('Predict'):\n",
        "    test_x = cv2.cvtColor(img, cv2.COLOR_BGR2GRAY)\n",
        "    test_x = np.expand_dims(test_x,axis=0)\n",
        "    val = model.predict(test_x)\n",
        "    st.title(f'Result: {np.argmax(val[0])}')\n",
        "    st.bar_chart(val[0])"
      ],
      "execution_count": 16,
      "outputs": [
        {
          "output_type": "stream",
          "text": [
            "Overwriting app.py\n"
          ],
          "name": "stdout"
        }
      ]
    },
    {
      "cell_type": "code",
      "metadata": {
        "id": "0zYCiJakD4Bg",
        "colab": {
          "base_uri": "https://localhost:8080/"
        },
        "outputId": "a3ffb155-07d4-46d6-fcc0-66eb216a07cb"
      },
      "source": [
        "!nohup streamlit run app.py &\n",
        "\n",
        "public_url = ngrok.connect(port='8501')\n",
        "print(public_url)"
      ],
      "execution_count": 15,
      "outputs": [
        {
          "output_type": "stream",
          "text": [
            "nohup: appending output to 'nohup.out'\n",
            "http://1871b420f206.ngrok.io\n"
          ],
          "name": "stdout"
        }
      ]
    }
  ]
}