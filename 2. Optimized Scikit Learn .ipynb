{
 "cells": [
  {
   "cell_type": "code",
   "execution_count": null,
   "id": "78da0474",
   "metadata": {},
   "outputs": [],
   "source": [
    "from sklearnex import patch_sklearn\n",
    "patch_sklearn()"
   ]
  },
  {
   "cell_type": "code",
   "execution_count": null,
   "id": "4f331e4b",
   "metadata": {},
   "outputs": [],
   "source": []
  },
  {
   "cell_type": "code",
   "execution_count": 1,
   "id": "2160deff",
   "metadata": {},
   "outputs": [
    {
     "name": "stdout",
     "output_type": "stream",
     "text": [
      "0.9911111111111112\n",
      "              precision    recall  f1-score   support\n",
      "\n",
      "           0       1.00      1.00      1.00        37\n",
      "           1       1.00      0.98      0.99        44\n",
      "           2       1.00      1.00      1.00        44\n",
      "           3       0.98      1.00      0.99        44\n",
      "           4       1.00      1.00      1.00        38\n",
      "           5       0.98      0.98      0.98        48\n",
      "           6       1.00      1.00      1.00        52\n",
      "           7       1.00      1.00      1.00        48\n",
      "           8       0.98      0.98      0.98        48\n",
      "           9       0.98      0.98      0.98        47\n",
      "\n",
      "    accuracy                           0.99       450\n",
      "   macro avg       0.99      0.99      0.99       450\n",
      "weighted avg       0.99      0.99      0.99       450\n",
      "\n",
      "It took 1.94 seconds\n"
     ]
    }
   ],
   "source": [
    "# Digits Recognizer from Sklearn 8*8\n",
    "\n",
    "from sklearn.datasets import load_digits\n",
    "import time\n",
    "start_time = time.time()\n",
    "digits = load_digits()\n",
    "\n",
    "# Dataframe\n",
    "import pandas as pd\n",
    "df = pd.DataFrame(digits.data)\n",
    "df['Target'] = digits.target\n",
    "df\n",
    "\n",
    "x = digits.data # Input pixel values as features\n",
    "y = digits.target\n",
    "\n",
    "# from sklearnex import patch_sklearn\n",
    "# patch_sklearn()\n",
    "\n",
    "from sklearn.model_selection import train_test_split\n",
    "x_train,x_test,y_train,y_test = train_test_split(x,y,random_state=0)\n",
    "\n",
    "from sklearn.svm import SVC\n",
    "\n",
    "model = SVC()\n",
    "model.fit(x_train,y_train)\n",
    "y_pred = model.predict(x_test)\n",
    "\n",
    "from sklearn.metrics import accuracy_score,classification_report\n",
    "print(accuracy_score(y_pred,y_test))\n",
    "\n",
    "print(classification_report(y_pred,y_test))\n",
    "print(f\"It took {time.time() - start_time:.2f} seconds\")"
   ]
  },
  {
   "cell_type": "code",
   "execution_count": 1,
   "id": "a3d7862a",
   "metadata": {},
   "outputs": [
    {
     "name": "stdout",
     "output_type": "stream",
     "text": [
      "Predicted Value[60] from test set: 2.831546292189358\n",
      "\n",
      "Original Value[60] form test set: 3.044\n",
      "\n",
      "Prices for the houses: [4.526 3.585 3.521 ... 0.923 0.847 0.894]\n",
      "\n",
      "Feature names: ['MedInc', 'HouseAge', 'AveRooms', 'AveBedrms', 'Population', 'AveOccup', 'Latitude', 'Longitude']\n",
      "\n",
      "Prediction in CV: [1.89670399 2.12517059 1.73023932 ... 1.42263774 1.94591478 0.41682637]\n",
      "\n",
      "Original Values of CV: [2.459 3.5   0.723 ... 1.157 3.746 0.762]\n",
      "\n",
      "Predicted value for test set: [2.92502511 1.1179203  2.25094772 ... 2.22574644 1.89189683 2.65338086]\n",
      "\n",
      "Original value for test set: [0.413 0.69  1.675 ... 1.688 1.493 4.612]\n",
      "\n",
      "Error in test set: 24170.24\n",
      "\n",
      "It took 57.89 seconds\n"
     ]
    }
   ],
   "source": [
    "# California Housing Dataset\n",
    "\n",
    "import time\n",
    "start_time = time.time()\n",
    "from sklearn import linear_model\n",
    "from sklearn.datasets import fetch_california_housing\n",
    "from sklearn.model_selection import train_test_split\n",
    "import matplotlib.pyplot as plt\n",
    "from sklearn.metrics import mean_squared_error\n",
    "from sklearn import preprocessing\n",
    "from sklearn.preprocessing import PolynomialFeatures\n",
    "# from sklearnex import unpatch_sklearn\n",
    "# unpatch_sklearn()\n",
    "\n",
    "# =============== dataset for the project =====================================\n",
    "\n",
    "dataset = fetch_california_housing()\n",
    "\n",
    "\n",
    "# ============== Polynomial Features for the dataset ==========================\n",
    "\n",
    "pft = PolynomialFeatures(degree = 6)\n",
    "\n",
    "# ============== Label names ==================================================\n",
    "\n",
    "label_prices = dataset['target']\n",
    "feature_names = dataset['feature_names']\n",
    "\n",
    "# ============== Feature Normalization of the dataset =========================\n",
    "data_original = (dataset.data)\n",
    "X_scaled = preprocessing.scale(dataset.data)\n",
    "\n",
    "# ================= Generating poly features ==================================\n",
    "\n",
    "X_poly = pft.fit_transform(X_scaled)\n",
    "\n",
    "# ================= Splitting the dataset(train, validation and test ==========\n",
    "X_train, X_dummy, y_train, y_dummy = train_test_split(X_poly, dataset.target, test_size = 0.40, random_state = 42)\n",
    "X_CV,X_test,y_CV,y_test = train_test_split(X_dummy, y_dummy, test_size = 0.2, random_state = 42)\n",
    "\n",
    "# ================= Fit a linear regression model =============================\n",
    "model = linear_model.Ridge(alpha = 9000)\n",
    "model.fit(X_train, y_train)\n",
    "\n",
    "predictionCV = model.predict(X_CV)\n",
    "predictionTestSet = model.predict(X_test)\n",
    "\n",
    "errorCV = mean_squared_error(y_CV, predictionCV)\n",
    "errorTestSet = mean_squared_error(y_test, predictionTestSet)\n",
    "\n",
    "print(f\"It took {time.time() - start_time:.2f} seconds\")"
   ]
  },
  {
   "cell_type": "code",
   "execution_count": null,
   "id": "3e48eb40",
   "metadata": {},
   "outputs": [],
   "source": []
  }
 ],
 "metadata": {
  "kernelspec": {
   "display_name": "Python 3 (ipykernel)",
   "language": "python",
   "name": "python3"
  },
  "language_info": {
   "codemirror_mode": {
    "name": "ipython",
    "version": 3
   },
   "file_extension": ".py",
   "mimetype": "text/x-python",
   "name": "python",
   "nbconvert_exporter": "python",
   "pygments_lexer": "ipython3",
   "version": "3.7.11"
  }
 },
 "nbformat": 4,
 "nbformat_minor": 5
}
