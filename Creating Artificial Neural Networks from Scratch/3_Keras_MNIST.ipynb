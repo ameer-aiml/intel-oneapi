{
 "cells": [
  {
   "cell_type": "markdown",
   "metadata": {},
   "source": [
    "## Handwritten Image Detection with Keras using MNIST data\n",
    "\n",
    "In this exercise we will work with image data: specifically the famous MNIST data set.  This data set contains 70,000 images of handwritten digits in grayscale (0=black, 255 = white).  The images are 28 pixels by 28 pixels for a total of 784 pixels.  This is quite small by image standards.  Also, the images are well centered and isolated.  This makes this problem solvable with standard fully connected neural nets without too much pre-work."
   ]
  },
  {
   "cell_type": "markdown",
   "metadata": {},
   "source": [
    "In the first part of this notebook, we will walk you through loading in the data, building a network, and training it.  Then it will be your turn to try different models and see if you can improve performance"
   ]
  },
  {
   "cell_type": "code",
   "execution_count": 1,
   "metadata": {},
   "outputs": [],
   "source": [
    "# Preliminaries\n",
    "\n",
    "from __future__ import print_function\n",
    "\n",
    "import keras\n",
    "from keras.datasets import mnist\n",
    "from keras.models import Sequential\n",
    "from keras.layers import Dense, Dropout\n",
    "from keras.optimizers import RMSprop\n",
    "\n",
    "import numpy as np\n",
    "import matplotlib.pyplot as plt\n",
    "%matplotlib inline"
   ]
  },
  {
   "cell_type": "markdown",
   "metadata": {},
   "source": [
    "Let's explore the dataset a little bit"
   ]
  },
  {
   "cell_type": "code",
   "execution_count": 2,
   "metadata": {
    "jupyter": {
     "outputs_hidden": false
    }
   },
   "outputs": [
    {
     "name": "stdout",
     "output_type": "stream",
     "text": [
      "Downloading data from https://storage.googleapis.com/tensorflow/tf-keras-datasets/mnist.npz\n",
      "11493376/11490434 [==============================] - 105s 9us/step\n"
     ]
    }
   ],
   "source": [
    "# Load the data, shuffled and split between train and test sets\n",
    "(x_train, y_train), (x_test, y_test) = mnist.load_data()"
   ]
  },
  {
   "cell_type": "code",
   "execution_count": 3,
   "metadata": {
    "jupyter": {
     "outputs_hidden": false
    }
   },
   "outputs": [
    {
     "data": {
      "text/plain": [
       "(28, 28)"
      ]
     },
     "execution_count": 3,
     "metadata": {},
     "output_type": "execute_result"
    }
   ],
   "source": [
    "x_train[0].shape"
   ]
  },
  {
   "cell_type": "code",
   "execution_count": 4,
   "metadata": {
    "jupyter": {
     "outputs_hidden": false
    }
   },
   "outputs": [
    {
     "data": {
      "text/plain": [
       "array([[  0,   0,   0,   0,   0,   0,   0,   0,   0,   0,   0,   0,   0,\n",
       "          0,   0,   0,   0,   0,   0,   0,   0,   0,   0,   0,   0,   0,\n",
       "          0,   0],\n",
       "       [  0,   0,   0,   0,   0,   0,   0,   0,   0,   0,   0,   0,   0,\n",
       "          0,   0,   0,   0,   0,   0,   0,   0,   0,   0,   0,   0,   0,\n",
       "          0,   0],\n",
       "       [  0,   0,   0,   0,   0,   0,   0,   0,   0,   0,   0,   0,   0,\n",
       "          0,   0,   0,   0,   0,   0,   0,   0,   0,   0,   0,   0,   0,\n",
       "          0,   0],\n",
       "       [  0,   0,   0,   0,   0,   0,   0,   0,   0,   0,   0,   0,   0,\n",
       "          0,   0,   0,   0,   0,   0,   0,   0,   0,   0,   0,   0,   0,\n",
       "          0,   0],\n",
       "       [  0,   0,   0,   0,   0,   0,   0,   0,   0,   0,   0,   0,   0,\n",
       "          0,   0,   0,   0,   0,   0,   0,   0,   0,   0,   0,   0,   0,\n",
       "          0,   0],\n",
       "       [  0,   0,   0,   0,   0,   0,   0,   0,   0,   0,   0,  87, 138,\n",
       "        170, 253, 201, 244, 212, 222, 138,  86,  22,   0,   0,   0,   0,\n",
       "          0,   0],\n",
       "       [  0,   0,   0,   0,   0,   0,   0,   0,   0,   0,  95, 253, 252,\n",
       "        252, 252, 252, 253, 252, 252, 252, 252, 245,  80,   0,   0,   0,\n",
       "          0,   0],\n",
       "       [  0,   0,   0,   0,   0,   0,   0,   0,   0,  68, 246, 205,  69,\n",
       "         69,  69,  69,  69,  69,  69,  69, 205, 253, 240,  50,   0,   0,\n",
       "          0,   0],\n",
       "       [  0,   0,   0,   0,   0,   0,   0,   0,   0, 187, 252, 218,  34,\n",
       "          0,   0,   0,   0,   0,   0,   0, 116, 253, 252,  69,   0,   0,\n",
       "          0,   0],\n",
       "       [  0,   0,   0,   0,   0,   0,   0,   0, 116, 248, 252, 253,  92,\n",
       "          0,   0,   0,   0,   0,   0,  95, 230, 253, 157,   6,   0,   0,\n",
       "          0,   0],\n",
       "       [  0,   0,   0,   0,   0,   0,   0,   0, 116, 249, 253, 189,  42,\n",
       "          0,   0,   0,   0,  36, 170, 253, 243, 158,   0,   0,   0,   0,\n",
       "          0,   0],\n",
       "       [  0,   0,   0,   0,   0,   0,   0,   0,   0, 133, 252, 245, 140,\n",
       "         34,   0,   0,  57, 219, 252, 235,  60,   0,   0,   0,   0,   0,\n",
       "          0,   0],\n",
       "       [  0,   0,   0,   0,   0,   0,   0,   0,   0,  25, 205, 253, 252,\n",
       "        234, 184, 184, 253, 240, 100,  44,   0,   0,   0,   0,   0,   0,\n",
       "          0,   0],\n",
       "       [  0,   0,   0,   0,   0,   0,   0,   0,   0,   0,  21, 161, 219,\n",
       "        252, 252, 252, 234,  37,   0,   0,   0,   0,   0,   0,   0,   0,\n",
       "          0,   0],\n",
       "       [  0,   0,   0,   0,   0,   0,   0,   0,   0,   0,   0,  11, 203,\n",
       "        252, 252, 252, 251, 135,   0,   0,   0,   0,   0,   0,   0,   0,\n",
       "          0,   0],\n",
       "       [  0,   0,   0,   0,   0,   0,   0,   0,   0,   9,  76, 255, 253,\n",
       "        205, 168, 220, 255, 253, 137,   5,   0,   0,   0,   0,   0,   0,\n",
       "          0,   0],\n",
       "       [  0,   0,   0,   0,   0,   0,   0,   0,   0, 114, 252, 249, 132,\n",
       "         25,   0,   0, 180, 252, 252,  45,   0,   0,   0,   0,   0,   0,\n",
       "          0,   0],\n",
       "       [  0,   0,   0,   0,   0,   0,   0,   0,  51, 220, 252, 199,   0,\n",
       "          0,   0,   0,  38, 186, 252, 154,   7,   0,   0,   0,   0,   0,\n",
       "          0,   0],\n",
       "       [  0,   0,   0,   0,   0,   0,   0,   0, 184, 252, 252,  21,   0,\n",
       "          0,   0,   0,   0,  67, 252, 252,  22,   0,   0,   0,   0,   0,\n",
       "          0,   0],\n",
       "       [  0,   0,   0,   0,   0,   0,   0,   0, 184, 252, 200,   0,   0,\n",
       "          0,   0,   0,   0,  47, 252, 252,  22,   0,   0,   0,   0,   0,\n",
       "          0,   0],\n",
       "       [  0,   0,   0,   0,   0,   0,   0,   0, 185, 253, 201,   0,   0,\n",
       "          0,   0,   0,   3, 118, 253, 245,  21,   0,   0,   0,   0,   0,\n",
       "          0,   0],\n",
       "       [  0,   0,   0,   0,   0,   0,   0,   0, 163, 252, 252,   0,   0,\n",
       "          0,   0,   0,  97, 252, 252,  87,   0,   0,   0,   0,   0,   0,\n",
       "          0,   0],\n",
       "       [  0,   0,   0,   0,   0,   0,   0,   0,  51, 240, 252, 123,  70,\n",
       "         70, 112, 184, 222, 252, 170,  13,   0,   0,   0,   0,   0,   0,\n",
       "          0,   0],\n",
       "       [  0,   0,   0,   0,   0,   0,   0,   0,   0, 165, 252, 253, 252,\n",
       "        252, 252, 252, 245, 139,  13,   0,   0,   0,   0,   0,   0,   0,\n",
       "          0,   0],\n",
       "       [  0,   0,   0,   0,   0,   0,   0,   0,   0,   9,  75, 253, 252,\n",
       "        221, 137, 137,  21,   0,   0,   0,   0,   0,   0,   0,   0,   0,\n",
       "          0,   0],\n",
       "       [  0,   0,   0,   0,   0,   0,   0,   0,   0,   0,   0,   0,   0,\n",
       "          0,   0,   0,   0,   0,   0,   0,   0,   0,   0,   0,   0,   0,\n",
       "          0,   0],\n",
       "       [  0,   0,   0,   0,   0,   0,   0,   0,   0,   0,   0,   0,   0,\n",
       "          0,   0,   0,   0,   0,   0,   0,   0,   0,   0,   0,   0,   0,\n",
       "          0,   0],\n",
       "       [  0,   0,   0,   0,   0,   0,   0,   0,   0,   0,   0,   0,   0,\n",
       "          0,   0,   0,   0,   0,   0,   0,   0,   0,   0,   0,   0,   0,\n",
       "          0,   0]], dtype=uint8)"
      ]
     },
     "execution_count": 4,
     "metadata": {},
     "output_type": "execute_result"
    }
   ],
   "source": [
    "#Let's just look at a particular example to see what is inside\n",
    "\n",
    "x_train[333]  ## Just a 28 x 28 numpy array of ints from 0 to 255"
   ]
  },
  {
   "cell_type": "code",
   "execution_count": 5,
   "metadata": {
    "jupyter": {
     "outputs_hidden": false
    }
   },
   "outputs": [
    {
     "data": {
      "text/plain": [
       "8"
      ]
     },
     "execution_count": 5,
     "metadata": {},
     "output_type": "execute_result"
    }
   ],
   "source": [
    "# What is the corresponding label in the training set?\n",
    "y_train[333]"
   ]
  },
  {
   "cell_type": "code",
   "execution_count": 6,
   "metadata": {
    "jupyter": {
     "outputs_hidden": false
    }
   },
   "outputs": [
    {
     "data": {
      "text/plain": [
       "<matplotlib.image.AxesImage at 0x1a44bd297c8>"
      ]
     },
     "execution_count": 6,
     "metadata": {},
     "output_type": "execute_result"
    },
    {
     "data": {
      "image/png": "[encoded data removed]",
      "text/plain": [
       "<Figure size 432x288 with 1 Axes>"
      ]
     },
     "metadata": {
      "needs_background": "light"
     },
     "output_type": "display_data"
    }
   ],
   "source": [
    "# Let's see what this image actually looks like\n",
    "\n",
    "plt.imshow(x_train[333], cmap='Greys_r')"
   ]
  },
  {
   "cell_type": "code",
   "execution_count": 7,
   "metadata": {
    "jupyter": {
     "outputs_hidden": false
    }
   },
   "outputs": [
    {
     "name": "stdout",
     "output_type": "stream",
     "text": [
      "(60000, 28, 28) train samples\n",
      "(10000, 28, 28) test samples\n"
     ]
    }
   ],
   "source": [
    "# this is the shape of the np.array x_train\n",
    "# it is 3 dimensional.\n",
    "print(x_train.shape, 'train samples')\n",
    "print(x_test.shape, 'test samples')"
   ]
  },
  {
   "cell_type": "code",
   "execution_count": 8,
   "metadata": {
    "jupyter": {
     "outputs_hidden": false
    }
   },
   "outputs": [],
   "source": [
    "## For our purposes, these images are just a vector of 784 inputs, so let's convert\n",
    "x_train = x_train.reshape(len(x_train), 28*28)\n",
    "x_test = x_test.reshape(len(x_test), 28*28)\n",
    "\n",
    "## Keras works with floats, so we must cast the numbers to floats\n",
    "x_train = x_train.astype('float32')\n",
    "x_test = x_test.astype('float32')\n",
    "\n",
    "## Normalize the inputs so they are between 0 and 1\n",
    "x_train /= 255\n",
    "x_test /= 255\n"
   ]
  },
  {
   "cell_type": "code",
   "execution_count": 9,
   "metadata": {
    "jupyter": {
     "outputs_hidden": false
    }
   },
   "outputs": [
    {
     "data": {
      "text/plain": [
       "array([0., 0., 0., 0., 0., 0., 0., 0., 1., 0.], dtype=float32)"
      ]
     },
     "execution_count": 9,
     "metadata": {},
     "output_type": "execute_result"
    }
   ],
   "source": [
    "# convert class vectors to binary class matrices\n",
    "num_classes = 10\n",
    "y_train = keras.utils.to_categorical(y_train, num_classes)\n",
    "y_test = keras.utils.to_categorical(y_test, num_classes)\n",
    "\n",
    "y_train[333]  # now the digit k is represented by a 1 in the kth entry (0-indexed) of the length 10 vector"
   ]
  },
  {
   "cell_type": "code",
   "execution_count": 10,
   "metadata": {},
   "outputs": [],
   "source": [
    "# We will build a model with two hidden layers of size 512\n",
    "# Fully connected inputs at each layer\n",
    "# We will use dropout of .2 to help regularize\n",
    "model_1 = Sequential()\n",
    "model_1.add(Dense(64, activation='relu', input_shape=(784,)))\n",
    "model_1.add(Dropout(0.2))\n",
    "model_1.add(Dense(64, activation='relu'))\n",
    "model_1.add(Dropout(0.2))\n",
    "model_1.add(Dense(10, activation='softmax'))"
   ]
  },
  {
   "cell_type": "code",
   "execution_count": 11,
   "metadata": {
    "jupyter": {
     "outputs_hidden": false
    }
   },
   "outputs": [
    {
     "name": "stdout",
     "output_type": "stream",
     "text": [
      "Model: \"sequential\"\n",
      "_________________________________________________________________\n",
      "Layer (type)                 Output Shape              Param #   \n",
      "=================================================================\n",
      "dense (Dense)                (None, 64)                50240     \n",
      "_________________________________________________________________\n",
      "dropout (Dropout)            (None, 64)                0         \n",
      "_________________________________________________________________\n",
      "dense_1 (Dense)              (None, 64)                4160      \n",
      "_________________________________________________________________\n",
      "dropout_1 (Dropout)          (None, 64)                0         \n",
      "_________________________________________________________________\n",
      "dense_2 (Dense)              (None, 10)                650       \n",
      "=================================================================\n",
      "Total params: 55,050\n",
      "Trainable params: 55,050\n",
      "Non-trainable params: 0\n",
      "_________________________________________________________________\n"
     ]
    }
   ],
   "source": [
    "## Note that this model has a LOT of parameters\n",
    "model_1.summary()"
   ]
  },
  {
   "cell_type": "code",
   "execution_count": 12,
   "metadata": {},
   "outputs": [],
   "source": [
    "# Let's compile the model\n",
    "learning_rate = .001\n",
    "model_1.compile(loss='categorical_crossentropy',\n",
    "              optimizer=RMSprop(lr=learning_rate),\n",
    "              metrics=['accuracy'])\n",
    "# note that `categorical cross entropy` is the natural generalization \n",
    "# of the loss function we had in binary classification case, to multi class case"
   ]
  },
  {
   "cell_type": "code",
   "execution_count": 13,
   "metadata": {
    "jupyter": {
     "outputs_hidden": false
    }
   },
   "outputs": [
    {
     "name": "stdout",
     "output_type": "stream",
     "text": [
      "Epoch 1/30\n",
      "469/469 [==============================] - 1s 3ms/step - loss: 0.5054 - accuracy: 0.8484 - val_loss: 0.2019 - val_accuracy: 0.9384\n",
      "Epoch 2/30\n",
      "469/469 [==============================] - 1s 3ms/step - loss: 0.2498 - accuracy: 0.9269 - val_loss: 0.1496 - val_accuracy: 0.9547\n",
      "Epoch 3/30\n",
      "469/469 [==============================] - 1s 3ms/step - loss: 0.1965 - accuracy: 0.9423 - val_loss: 0.1349 - val_accuracy: 0.9571\n",
      "Epoch 4/30\n",
      "469/469 [==============================] - 1s 3ms/step - loss: 0.1715 - accuracy: 0.9492 - val_loss: 0.1122 - val_accuracy: 0.9662\n",
      "Epoch 5/30\n",
      "469/469 [==============================] - 1s 3ms/step - loss: 0.1524 - accuracy: 0.9551 - val_loss: 0.1096 - val_accuracy: 0.9682\n",
      "Epoch 6/30\n",
      "469/469 [==============================] - 1s 3ms/step - loss: 0.1431 - accuracy: 0.9583 - val_loss: 0.0974 - val_accuracy: 0.9709\n",
      "Epoch 7/30\n",
      "469/469 [==============================] - 1s 3ms/step - loss: 0.1321 - accuracy: 0.9612 - val_loss: 0.1026 - val_accuracy: 0.9698\n",
      "Epoch 8/30\n",
      "469/469 [==============================] - 1s 3ms/step - loss: 0.1284 - accuracy: 0.9622 - val_loss: 0.0966 - val_accuracy: 0.9739\n",
      "Epoch 9/30\n",
      "469/469 [==============================] - 1s 3ms/step - loss: 0.1197 - accuracy: 0.9649 - val_loss: 0.0971 - val_accuracy: 0.9725\n",
      "Epoch 10/30\n",
      "469/469 [==============================] - 1s 3ms/step - loss: 0.1142 - accuracy: 0.9665 - val_loss: 0.0929 - val_accuracy: 0.9731\n",
      "Epoch 11/30\n",
      "469/469 [==============================] - 1s 3ms/step - loss: 0.1084 - accuracy: 0.9683 - val_loss: 0.0903 - val_accuracy: 0.9750\n",
      "Epoch 12/30\n",
      "469/469 [==============================] - 1s 3ms/step - loss: 0.1058 - accuracy: 0.9688 - val_loss: 0.0913 - val_accuracy: 0.9751\n",
      "Epoch 13/30\n",
      "469/469 [==============================] - 1s 3ms/step - loss: 0.1041 - accuracy: 0.9691 - val_loss: 0.0880 - val_accuracy: 0.9769\n",
      "Epoch 14/30\n",
      "469/469 [==============================] - 1s 3ms/step - loss: 0.0994 - accuracy: 0.9707 - val_loss: 0.0992 - val_accuracy: 0.9739\n",
      "Epoch 15/30\n",
      "469/469 [==============================] - 1s 3ms/step - loss: 0.0973 - accuracy: 0.9713 - val_loss: 0.0982 - val_accuracy: 0.9755\n",
      "Epoch 16/30\n",
      "469/469 [==============================] - 1s 3ms/step - loss: 0.0953 - accuracy: 0.9715 - val_loss: 0.0912 - val_accuracy: 0.9764\n",
      "Epoch 17/30\n",
      "469/469 [==============================] - 1s 3ms/step - loss: 0.0929 - accuracy: 0.9721 - val_loss: 0.0984 - val_accuracy: 0.9750\n",
      "Epoch 18/30\n",
      "469/469 [==============================] - 1s 3ms/step - loss: 0.0923 - accuracy: 0.9726 - val_loss: 0.0973 - val_accuracy: 0.9761\n",
      "Epoch 19/30\n",
      "469/469 [==============================] - 1s 3ms/step - loss: 0.0922 - accuracy: 0.9729 - val_loss: 0.0962 - val_accuracy: 0.9773\n",
      "Epoch 20/30\n",
      "469/469 [==============================] - 1s 3ms/step - loss: 0.0879 - accuracy: 0.9736 - val_loss: 0.0911 - val_accuracy: 0.9777\n",
      "Epoch 21/30\n",
      "469/469 [==============================] - 2s 3ms/step - loss: 0.0902 - accuracy: 0.9731 - val_loss: 0.0953 - val_accuracy: 0.9767\n",
      "Epoch 22/30\n",
      "469/469 [==============================] - 1s 3ms/step - loss: 0.0865 - accuracy: 0.9741 - val_loss: 0.1019 - val_accuracy: 0.9772\n",
      "Epoch 23/30\n",
      "469/469 [==============================] - 1s 3ms/step - loss: 0.0861 - accuracy: 0.9743 - val_loss: 0.0954 - val_accuracy: 0.9782\n",
      "Epoch 24/30\n",
      "469/469 [==============================] - 1s 3ms/step - loss: 0.0854 - accuracy: 0.9752 - val_loss: 0.0973 - val_accuracy: 0.9773\n",
      "Epoch 25/30\n",
      "469/469 [==============================] - 1s 3ms/step - loss: 0.0809 - accuracy: 0.9749 - val_loss: 0.0962 - val_accuracy: 0.9784\n",
      "Epoch 26/30\n",
      "469/469 [==============================] - 1s 3ms/step - loss: 0.0803 - accuracy: 0.9765 - val_loss: 0.1010 - val_accuracy: 0.9773\n",
      "Epoch 27/30\n",
      "469/469 [==============================] - 1s 3ms/step - loss: 0.0795 - accuracy: 0.9765 - val_loss: 0.1001 - val_accuracy: 0.9771\n",
      "Epoch 28/30\n",
      "469/469 [==============================] - 2s 4ms/step - loss: 0.0808 - accuracy: 0.9761 - val_loss: 0.1018 - val_accuracy: 0.9778\n",
      "Epoch 29/30\n",
      "469/469 [==============================] - 1s 3ms/step - loss: 0.0781 - accuracy: 0.9773 - val_loss: 0.0997 - val_accuracy: 0.9763\n",
      "Epoch 30/30\n",
      "469/469 [==============================] - 2s 3ms/step - loss: 0.0784 - accuracy: 0.9772 - val_loss: 0.1061 - val_accuracy: 0.9759\n"
     ]
    }
   ],
   "source": [
    "# And now let's fit.\n",
    "\n",
    "batch_size = 128  # mini-batch with 128 examples\n",
    "epochs = 30\n",
    "history = model_1.fit(\n",
    "    x_train, y_train,\n",
    "    batch_size=batch_size,\n",
    "    epochs=epochs,\n",
    "    verbose=1,\n",
    "    validation_data=(x_test, y_test))"
   ]
  },
  {
   "cell_type": "code",
   "execution_count": 14,
   "metadata": {
    "jupyter": {
     "outputs_hidden": false
    }
   },
   "outputs": [
    {
     "name": "stdout",
     "output_type": "stream",
     "text": [
      "Test loss: 0.10612313449382782\n",
      "Test accuracy: 0.9758999943733215\n"
     ]
    }
   ],
   "source": [
    "## We will use Keras evaluate function to evaluate performance on the test set\n",
    "\n",
    "score = model_1.evaluate(x_test, y_test, verbose=0)\n",
    "print('Test loss:', score[0])\n",
    "print('Test accuracy:', score[1])"
   ]
  },
  {
   "cell_type": "code",
   "execution_count": 15,
   "metadata": {
    "jupyter": {
     "outputs_hidden": false
    }
   },
   "outputs": [
    {
     "data": {
      "image/png": "[encoded data removed]",
      "text/plain": [
       "<Figure size 864x432 with 2 Axes>"
      ]
     },
     "metadata": {
      "needs_background": "light"
     },
     "output_type": "display_data"
    }
   ],
   "source": [
    "def plot_loss_accuracy(history):\n",
    "    fig = plt.figure(figsize=(12, 6))\n",
    "    ax = fig.add_subplot(1, 2, 1)\n",
    "    ax.plot(history.history[\"loss\"],'r-x', label=\"Train Loss\")\n",
    "    ax.plot(history.history[\"val_loss\"],'b-x', label=\"Validation Loss\")\n",
    "    ax.legend()\n",
    "    ax.set_title('cross_entropy loss')\n",
    "    ax.grid(True)\n",
    "\n",
    "\n",
    "    ax = fig.add_subplot(1, 2, 2)\n",
    "    ax.plot(history.history[\"accuracy\"],'r-x', label=\"Train Accuracy\")\n",
    "    ax.plot(history.history[\"val_accuracy\"],'b-x', label=\"Validation Accuracy\")\n",
    "    ax.legend()\n",
    "    ax.set_title('accuracy')\n",
    "    ax.grid(True)\n",
    "    \n",
    "\n",
    "plot_loss_accuracy(history)"
   ]
  },
  {
   "cell_type": "markdown",
   "metadata": {},
   "source": [
    "This is reasonably good performance, but we can do even better!  Next you will build an even bigger network and compare the performance."
   ]
  },
  {
   "cell_type": "markdown",
   "metadata": {},
   "source": [
    "## Exercise\n",
    "### Your Turn: Build your own model\n",
    "Use the Keras \"Sequential\" functionality to build `model_2` with the following specifications:\n",
    "\n",
    "1. Two hidden layers.\n",
    "2. First hidden layer of size 400 and second of size 300\n",
    "3. Dropout of .4 at each layer\n",
    "4. How many parameters does your model have?  How does it compare with the previous model?\n",
    "4. Train this model for 20 epochs with RMSProp at a learning rate of .001 and a batch size of 128\n",
    "\n",
    "\n"
   ]
  },
  {
   "cell_type": "code",
   "execution_count": 16,
   "metadata": {},
   "outputs": [],
   "source": [
    "### Build your model here\n"
   ]
  },
  {
   "cell_type": "code",
   "execution_count": null,
   "metadata": {},
   "outputs": [],
   "source": []
  },
  {
   "cell_type": "code",
   "execution_count": null,
   "metadata": {},
   "outputs": [],
   "source": []
  },
  {
   "cell_type": "code",
   "execution_count": null,
   "metadata": {},
   "outputs": [],
   "source": []
  },
  {
   "cell_type": "markdown",
   "metadata": {},
   "source": [
    "## SOLUTION"
   ]
  },
  {
   "cell_type": "code",
   "execution_count": 17,
   "metadata": {
    "jupyter": {
     "outputs_hidden": false
    }
   },
   "outputs": [
    {
     "name": "stdout",
     "output_type": "stream",
     "text": [
      "Model: \"sequential_1\"\n",
      "_________________________________________________________________\n",
      "Layer (type)                 Output Shape              Param #   \n",
      "=================================================================\n",
      "dense_3 (Dense)              (None, 400)               314000    \n",
      "_________________________________________________________________\n",
      "dropout_2 (Dropout)          (None, 400)               0         \n",
      "_________________________________________________________________\n",
      "dense_4 (Dense)              (None, 300)               120300    \n",
      "_________________________________________________________________\n",
      "dropout_3 (Dropout)          (None, 300)               0         \n",
      "_________________________________________________________________\n",
      "dense_5 (Dense)              (None, 10)                3010      \n",
      "=================================================================\n",
      "Total params: 437,310\n",
      "Trainable params: 437,310\n",
      "Non-trainable params: 0\n",
      "_________________________________________________________________\n"
     ]
    }
   ],
   "source": [
    "model_2 = Sequential()\n",
    "model_2.add(Dense(400, activation='relu', input_shape=(784,)))\n",
    "model_2.add(Dropout(0.4))\n",
    "model_2.add(Dense(300, activation='relu', input_shape=(784,)))\n",
    "model_2.add(Dropout(0.4))\n",
    "model_2.add(Dense(10, activation='softmax'))\n",
    "\n",
    "model_2.summary()"
   ]
  },
  {
   "cell_type": "code",
   "execution_count": 18,
   "metadata": {
    "jupyter": {
     "outputs_hidden": false
    }
   },
   "outputs": [
    {
     "name": "stdout",
     "output_type": "stream",
     "text": [
      "Epoch 1/20\n",
      "469/469 [==============================] - 4s 8ms/step - loss: 0.3259 - accuracy: 0.8998 - val_loss: 0.1368 - val_accuracy: 0.9570\n",
      "Epoch 2/20\n",
      "469/469 [==============================] - 4s 8ms/step - loss: 0.1521 - accuracy: 0.9553 - val_loss: 0.0984 - val_accuracy: 0.9686\n",
      "Epoch 3/20\n",
      "469/469 [==============================] - 4s 8ms/step - loss: 0.1212 - accuracy: 0.9644 - val_loss: 0.0859 - val_accuracy: 0.9741\n",
      "Epoch 4/20\n",
      "469/469 [==============================] - 4s 8ms/step - loss: 0.1003 - accuracy: 0.9704 - val_loss: 0.0864 - val_accuracy: 0.9768\n",
      "Epoch 5/20\n",
      "469/469 [==============================] - 3s 7ms/step - loss: 0.0919 - accuracy: 0.9735 - val_loss: 0.0828 - val_accuracy: 0.9780\n",
      "Epoch 6/20\n",
      "469/469 [==============================] - 5s 12ms/step - loss: 0.0820 - accuracy: 0.9761 - val_loss: 0.0776 - val_accuracy: 0.9797\n",
      "Epoch 7/20\n",
      "469/469 [==============================] - 4s 9ms/step - loss: 0.0785 - accuracy: 0.9779 - val_loss: 0.0804 - val_accuracy: 0.9800\n",
      "Epoch 8/20\n",
      "469/469 [==============================] - 4s 8ms/step - loss: 0.0731 - accuracy: 0.9788 - val_loss: 0.0758 - val_accuracy: 0.9807\n",
      "Epoch 9/20\n",
      "469/469 [==============================] - 4s 9ms/step - loss: 0.0687 - accuracy: 0.9815 - val_loss: 0.0788 - val_accuracy: 0.9811\n",
      "Epoch 10/20\n",
      "469/469 [==============================] - 5s 10ms/step - loss: 0.0666 - accuracy: 0.9816 - val_loss: 0.0838 - val_accuracy: 0.9810\n",
      "Epoch 11/20\n",
      "469/469 [==============================] - 5s 10ms/step - loss: 0.0639 - accuracy: 0.9826 - val_loss: 0.0942 - val_accuracy: 0.9804\n",
      "Epoch 12/20\n",
      "469/469 [==============================] - 4s 9ms/step - loss: 0.0602 - accuracy: 0.9834 - val_loss: 0.0847 - val_accuracy: 0.9814\n",
      "Epoch 13/20\n",
      "469/469 [==============================] - 4s 9ms/step - loss: 0.0579 - accuracy: 0.9838 - val_loss: 0.0966 - val_accuracy: 0.9821\n",
      "Epoch 14/20\n",
      "469/469 [==============================] - 4s 9ms/step - loss: 0.0585 - accuracy: 0.9843 - val_loss: 0.0927 - val_accuracy: 0.9816\n",
      "Epoch 15/20\n",
      "469/469 [==============================] - 4s 9ms/step - loss: 0.0557 - accuracy: 0.9851 - val_loss: 0.0916 - val_accuracy: 0.9820\n",
      "Epoch 16/20\n",
      "469/469 [==============================] - 4s 9ms/step - loss: 0.0539 - accuracy: 0.9857 - val_loss: 0.0873 - val_accuracy: 0.9837\n",
      "Epoch 17/20\n",
      "469/469 [==============================] - 5s 10ms/step - loss: 0.0530 - accuracy: 0.9857 - val_loss: 0.0900 - val_accuracy: 0.9823\n",
      "Epoch 18/20\n",
      "469/469 [==============================] - 5s 11ms/step - loss: 0.0512 - accuracy: 0.9862 - val_loss: 0.1053 - val_accuracy: 0.9816\n",
      "Epoch 19/20\n",
      "469/469 [==============================] - 5s 10ms/step - loss: 0.0497 - accuracy: 0.9874 - val_loss: 0.1012 - val_accuracy: 0.9821\n",
      "Epoch 20/20\n",
      "469/469 [==============================] - 5s 11ms/step - loss: 0.0528 - accuracy: 0.9866 - val_loss: 0.0996 - val_accuracy: 0.9848\n",
      "\n",
      "Test loss: 0.09964344650506973\n",
      "Test accuracy: 0.9847999811172485\n"
     ]
    }
   ],
   "source": [
    "batch_size = 128\n",
    "epochs = 20\n",
    "learning_rate = .001\n",
    "\n",
    "\n",
    "model_2.compile(loss='categorical_crossentropy',\n",
    "              optimizer=RMSprop(lr = learning_rate),\n",
    "              metrics=['accuracy'])\n",
    "\n",
    "history = model_2.fit(x_train, y_train,\n",
    "                    batch_size=batch_size,\n",
    "                    epochs=epochs,\n",
    "                    verbose=1,\n",
    "                    validation_data=(x_test, y_test))\n",
    "score = model_2.evaluate(x_test, y_test, verbose=0)\n",
    "print('')\n",
    "print('Test loss:', score[0])\n",
    "print('Test accuracy:', score[1])"
   ]
  },
  {
   "cell_type": "code",
   "execution_count": 19,
   "metadata": {
    "jupyter": {
     "outputs_hidden": false
    }
   },
   "outputs": [
    {
     "data": {
      "image/png": "[encoded data removed]",
      "text/plain": [
       "<Figure size 864x432 with 2 Axes>"
      ]
     },
     "metadata": {
      "needs_background": "light"
     },
     "output_type": "display_data"
    }
   ],
   "source": [
    "plot_loss_accuracy(history)"
   ]
  },
  {
   "cell_type": "markdown",
   "metadata": {},
   "source": [
    "## Think about the following questions\n",
    "\n",
    "1) How do model_1 and model_2 compare?  Which do you prefer?  If you were going to put one into production, which would you choose and why?\n",
    "\n",
    "2) Compare the trajectories of the loss function on the training set and test set for each model?  How do they compare?  What does that suggest about each model?  Do the same for accuracy?  Which do you think is more meaningful, the loss or the accuracy?\n",
    "\n",
    "3) Suggest an improvement to one of the models (changing structure, learning rate, number of epochs, etc.) that you think will result in a better model.  Try it out below?  Did it improve the performance?"
   ]
  },
  {
   "cell_type": "code",
   "execution_count": 20,
   "metadata": {
    "jupyter": {
     "outputs_hidden": false
    }
   },
   "outputs": [],
   "source": [
    "model_3 = Sequential()\n",
    "model_3.add(Dense(400, activation='relu', input_shape=(784,)))\n",
    "model_3.add(Dropout(0.1))\n",
    "model_3.add(Dense(300, activation='relu', input_shape=(784,)))\n",
    "model_3.add(Dropout(0.1))\n",
    "model_3.add(Dense(10, activation='softmax'))"
   ]
  },
  {
   "cell_type": "code",
   "execution_count": 21,
   "metadata": {
    "jupyter": {
     "outputs_hidden": false
    }
   },
   "outputs": [
    {
     "name": "stdout",
     "output_type": "stream",
     "text": [
      "Epoch 1/25\n",
      "469/469 [==============================] - 4s 9ms/step - loss: 0.6168 - accuracy: 0.8423 - val_loss: 0.2740 - val_accuracy: 0.9208\n",
      "Epoch 2/25\n",
      "469/469 [==============================] - 4s 8ms/step - loss: 0.2632 - accuracy: 0.9242 - val_loss: 0.1950 - val_accuracy: 0.9448\n",
      "Epoch 3/25\n",
      "469/469 [==============================] - 5s 10ms/step - loss: 0.1979 - accuracy: 0.9429 - val_loss: 0.1551 - val_accuracy: 0.9556\n",
      "Epoch 4/25\n",
      "469/469 [==============================] - 5s 10ms/step - loss: 0.1622 - accuracy: 0.9532 - val_loss: 0.1326 - val_accuracy: 0.9602\n",
      "Epoch 5/25\n",
      "469/469 [==============================] - 5s 11ms/step - loss: 0.1376 - accuracy: 0.9593 - val_loss: 0.1167 - val_accuracy: 0.9662\n",
      "Epoch 6/25\n",
      "469/469 [==============================] - 5s 12ms/step - loss: 0.1193 - accuracy: 0.9650 - val_loss: 0.1042 - val_accuracy: 0.9685\n",
      "Epoch 7/25\n",
      "469/469 [==============================] - 6s 12ms/step - loss: 0.1042 - accuracy: 0.9696 - val_loss: 0.0955 - val_accuracy: 0.9699\n",
      "Epoch 8/25\n",
      "469/469 [==============================] - 6s 12ms/step - loss: 0.0929 - accuracy: 0.9722 - val_loss: 0.0903 - val_accuracy: 0.9717\n",
      "Epoch 9/25\n",
      "469/469 [==============================] - 5s 11ms/step - loss: 0.0835 - accuracy: 0.9752 - val_loss: 0.0845 - val_accuracy: 0.9740\n",
      "Epoch 10/25\n",
      "469/469 [==============================] - 5s 12ms/step - loss: 0.0759 - accuracy: 0.9775 - val_loss: 0.0786 - val_accuracy: 0.9754\n",
      "Epoch 11/25\n",
      "469/469 [==============================] - 6s 12ms/step - loss: 0.0693 - accuracy: 0.9800 - val_loss: 0.0756 - val_accuracy: 0.9754\n",
      "Epoch 12/25\n",
      "469/469 [==============================] - 5s 11ms/step - loss: 0.0635 - accuracy: 0.9816 - val_loss: 0.0744 - val_accuracy: 0.9753\n",
      "Epoch 13/25\n",
      "469/469 [==============================] - 5s 12ms/step - loss: 0.0583 - accuracy: 0.9826 - val_loss: 0.0696 - val_accuracy: 0.9771\n",
      "Epoch 14/25\n",
      "469/469 [==============================] - 5s 10ms/step - loss: 0.0531 - accuracy: 0.9844 - val_loss: 0.0695 - val_accuracy: 0.9783\n",
      "Epoch 15/25\n",
      "469/469 [==============================] - 5s 11ms/step - loss: 0.0499 - accuracy: 0.9851 - val_loss: 0.0661 - val_accuracy: 0.9801\n",
      "Epoch 16/25\n",
      "469/469 [==============================] - 5s 11ms/step - loss: 0.0461 - accuracy: 0.9867 - val_loss: 0.0662 - val_accuracy: 0.9777\n",
      "Epoch 17/25\n",
      "469/469 [==============================] - 6s 12ms/step - loss: 0.0425 - accuracy: 0.9872 - val_loss: 0.0638 - val_accuracy: 0.9796\n",
      "Epoch 18/25\n",
      "469/469 [==============================] - 6s 12ms/step - loss: 0.0401 - accuracy: 0.9882 - val_loss: 0.0633 - val_accuracy: 0.9800\n",
      "Epoch 19/25\n",
      "469/469 [==============================] - 5s 11ms/step - loss: 0.0374 - accuracy: 0.9890 - val_loss: 0.0624 - val_accuracy: 0.9803\n",
      "Epoch 20/25\n",
      "469/469 [==============================] - 5s 11ms/step - loss: 0.0347 - accuracy: 0.9894 - val_loss: 0.0627 - val_accuracy: 0.9808\n",
      "Epoch 21/25\n",
      "469/469 [==============================] - 5s 11ms/step - loss: 0.0327 - accuracy: 0.9905 - val_loss: 0.0613 - val_accuracy: 0.9808\n",
      "Epoch 22/25\n",
      "469/469 [==============================] - 6s 12ms/step - loss: 0.0298 - accuracy: 0.9913 - val_loss: 0.0603 - val_accuracy: 0.9814\n",
      "Epoch 23/25\n",
      "469/469 [==============================] - 5s 10ms/step - loss: 0.0291 - accuracy: 0.9914 - val_loss: 0.0602 - val_accuracy: 0.9805\n",
      "Epoch 24/25\n",
      "469/469 [==============================] - 5s 11ms/step - loss: 0.0263 - accuracy: 0.9923 - val_loss: 0.0599 - val_accuracy: 0.9810\n",
      "Epoch 25/25\n",
      "469/469 [==============================] - 5s 11ms/step - loss: 0.0255 - accuracy: 0.9923 - val_loss: 0.0628 - val_accuracy: 0.9800\n",
      "\n",
      "Test loss: 0.06275371462106705\n",
      "Test accuracy: 0.9800000190734863\n"
     ]
    },
    {
     "data": {
      "image/png": "[encoded data removed]",
      "text/plain": [
       "<Figure size 864x432 with 2 Axes>"
      ]
     },
     "metadata": {
      "needs_background": "light"
     },
     "output_type": "display_data"
    }
   ],
   "source": [
    "batch_size = 128\n",
    "epochs = 25\n",
    "learning_rate = .0001\n",
    "\n",
    "\n",
    "model_3.compile(loss='categorical_crossentropy',\n",
    "              optimizer=RMSprop(lr = .0001),\n",
    "              metrics=['accuracy'])\n",
    "\n",
    "history = model_3.fit(x_train, y_train,\n",
    "                    batch_size=batch_size,\n",
    "                    epochs=epochs,\n",
    "                    verbose=1,\n",
    "                    validation_data=(x_test, y_test))\n",
    "score = model_3.evaluate(x_test, y_test, verbose=0)\n",
    "print('')\n",
    "print('Test loss:', score[0])\n",
    "print('Test accuracy:', score[1])\n",
    "plot_loss_accuracy(history)"
   ]
  },
  {
   "cell_type": "code",
   "execution_count": null,
   "metadata": {},
   "outputs": [],
   "source": []
  }
 ],
 "metadata": {
  "kernelspec": {
   "display_name": "Python 3",
   "language": "python",
   "name": "python3"
  },
  "language_info": {
   "codemirror_mode": {
    "name": "ipython",
    "version": 3
   },
   "file_extension": ".py",
   "mimetype": "text/x-python",
   "name": "python",
   "nbconvert_exporter": "python",
   "pygments_lexer": "ipython3",
   "version": "3.7.6"
  }
 },
 "nbformat": 4,
 "nbformat_minor": 4
}
